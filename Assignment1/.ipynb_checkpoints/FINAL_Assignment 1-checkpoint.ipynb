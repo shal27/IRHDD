{
 "cells": [
  {
   "cell_type": "markdown",
   "metadata": {},
   "source": [
    "## **Assignment 1: Information Retrieval In High Dimensional Data**\n",
    "\n",
    "### Group 7: \n",
    "* Verma, Shivendu (03692438)\n",
    "* Ben Chaabene, Siwar (03687915)\n",
    "* Mahajan, Shalvi (03708741)\n",
    "* Najib, Amna (03689277)\n",
    "* Sharma, Akshat (03708955)"
   ]
  },
  {
   "cell_type": "markdown",
   "metadata": {},
   "source": [
    "\n"
   ]
  },
  {
   "cell_type": "markdown",
   "metadata": {},
   "source": [
    "**Task1:**  **Curse of Dimensionality <br> <br>**\n",
    "\n",
    "**Let $ C_d = \\{x \\in \\mathbb{R}^p \\, | \\, {\\lVert x \\rVert}_\\infty \\leq \\frac{d}{2}\\} $ denote the p-dimensional hypercube of edge length d, centered at the origin. <br>**\n",
    "**- Assume $X$ to be uniformly distributed in $C_1$. Determine d in dependence of p and $ q \\in [0, 1]$, such that $$Pr(X \\in C_d) = q$$ holds.<br>**\n",
    "**- Let the components of the p-dimensional random variable $X^p$ be independent and have the standard normal distribution. It is known that $Pr(|X^1| \\leq 2.576) = 0.99$. For an arbitrary p, determine the probability $Pr({\\lVert x \\rVert}_\\infty > 2.576)$ for any of the components of $X^p$ to lie outside of the interval $[−2.576, 2.576]$. Evaluate the value for $p = 2$, $p = 3$ and $p = 500$.**\n",
    "\n"
   ]
  },
  {
   "cell_type": "markdown",
   "metadata": {},
   "source": [
    "### Answer: Task1\n",
    "#### Part 1"
   ]
  },
  {
   "cell_type": "markdown",
   "metadata": {},
   "source": [
    "X is uniformly distributed in $C_1$. Considering the lebesgue integral and measure $\\lambda$($C_1$), the probability density function is then expressed as follows for every $x \\in \\mathbb{R}^p$: <br>\n",
    "    $$ \\begin{split} \n",
    "    f(x) & = \\frac{1}{\\lambda(C_1)} * \\phi_{C_1}(x) \\\\\n",
    "    \\lambda(C_1) & = (\\frac{1}{2}- \\frac{-1}{2})^p \\\\\n",
    "                 & = 1\n",
    "    \\end{split}  $$\n",
    "    \n",
    ", where $\\phi_{C_1}$ is the indicator function on the set $C_1$. <br> <br> \n",
    "$x \\in \\mathbb{R}^p $\n",
    "$$ \n",
    "\\begin {align*} \n",
    "& Pr(X \\in C_d) & = q \\\\\n",
    "\\Leftrightarrow \\, \\,& \\int_{C_d} f(x) \\, dx & = q \\\\\n",
    "\\Leftrightarrow \\, \\,& (\\frac{d}{2}- \\frac{-d}{2})^p & = q \\\\\n",
    "\\Leftrightarrow \\, \\,& d^p & = q \\\\\n",
    "\\Leftrightarrow \\, \\,& d & = \\sqrt[p]{q}\n",
    "\\end{align*}\n",
    "$$\n",
    "\n"
   ]
  },
  {
   "cell_type": "markdown",
   "metadata": {},
   "source": [
    "#### Part 2"
   ]
  },
  {
   "cell_type": "markdown",
   "metadata": {},
   "source": [
    "$$\n",
    "\\begin{split}\n",
    "Pr({\\lVert X^p \\rVert}_\\infty > 2.576) & = 1- Pr({\\lVert X^p \\rVert}_\\infty \\leq 2.576) \\\\\n",
    "& = 1- Pr(|X^1| \\leq 2.576 \\, \\, and \\, \\, |X^2| \\leq 2.576 \\, \\, and \\, \\, .. \\, \\, and  \\, \\, |X^p| \\leq 2.576) \\\\\n",
    "& = 1- Pr(|X^1| \\leq 2.576) * Pr(|X^2| \\leq 2.576) * Pr(|X^3| \\leq 2.576) * ... *  Pr(|X^p| \\leq 2.576), \\, \\text{since the components are independent random variables}  \\\\\n",
    "& = 1 -0.99 ^p\n",
    "\\end{split}\n",
    "$$\n",
    " "
   ]
  },
  {
   "cell_type": "code",
   "execution_count": 2,
   "metadata": {},
   "outputs": [
    {
     "name": "stdout",
     "output_type": "stream",
     "text": [
      "The probability value for p=2  0.01990000000000003\n",
      "The probability value for p=3  0.029700999999999977\n",
      "The probability value for p=500  0.9934295169575854\n"
     ]
    }
   ],
   "source": [
    "import numpy as np\n",
    "# For p = 2\n",
    "Pr_2 = 1- (np.power(0.99,2))\n",
    "print('The probability value for p=2 ', Pr_2)\n",
    "# For p = 3\n",
    "Pr_3 = 1- (np.power(0.99,3))\n",
    "print('The probability value for p=3 ', Pr_3)\n",
    "# For p = 500\n",
    "Pr_500 = 1- (np.power(0.99,500))\n",
    "print('The probability value for p=500 ', Pr_500)"
   ]
  },
  {
   "cell_type": "markdown",
   "metadata": {},
   "source": [
    "**Task 2: [10 Points]**\n",
    "\n",
    "**Provide the PYTHON code to the following tasks (the code needs to be commented properly):**\n",
    "\n",
    "* **Sample 100 uniformly distributed random vectors from the box $[-1,1]^d$ for d=2**"
   ]
  },
  {
   "cell_type": "code",
   "execution_count": 3,
   "metadata": {},
   "outputs": [
    {
     "name": "stdout",
     "output_type": "stream",
     "text": [
      "100 uniformly distributed random vectors:\n",
      "[[-0.82992736  0.26722563]\n",
      " [ 0.38064379  0.12850039]\n",
      " [ 0.1800907  -0.49779954]\n",
      " [-0.9895685  -0.5554527 ]\n",
      " [-0.11477301  0.16107427]\n",
      " [-0.75551694 -0.64412822]\n",
      " [-0.6259951  -0.70225724]\n",
      " [-0.87842782 -0.41666035]\n",
      " [ 0.98260615  0.12476199]\n",
      " [ 0.04878782 -0.27600374]\n",
      " [ 0.2967568   0.63532477]\n",
      " [-0.95067768  0.91138655]\n",
      " [-0.28855632  0.82666885]\n",
      " [ 0.08083626 -0.21546035]\n",
      " [ 0.4442348   0.63698436]\n",
      " [ 0.01684319 -0.04556669]\n",
      " [-0.67028402 -0.88140924]\n",
      " [ 0.85323563  0.57546066]\n",
      " [-0.37562561 -0.60983909]\n",
      " [ 0.99774142 -0.06515268]\n",
      " [-0.79517164  0.21798799]\n",
      " [ 0.10933756  0.05985614]\n",
      " [-0.84066684  0.50537248]\n",
      " [ 0.1014441  -0.31349532]\n",
      " [-0.74754938  0.5547721 ]\n",
      " [-0.74832022  0.57505658]\n",
      " [ 0.34218545  0.47168578]\n",
      " [-0.61491618 -0.06614354]\n",
      " [-0.29999311 -0.57464924]\n",
      " [-0.69445745  0.55936412]\n",
      " [-0.81352649  0.85662208]\n",
      " [-0.85799516  0.75001612]\n",
      " [ 0.79368966  0.77989148]\n",
      " [ 0.45638625 -0.13978952]\n",
      " [-0.39796649  0.48535051]\n",
      " [ 0.22614452 -0.47878369]\n",
      " [-0.81932631  0.56592666]\n",
      " [ 0.12273387 -0.83904558]\n",
      " [-0.71846408  0.01626564]\n",
      " [-0.63243638  0.22895049]\n",
      " [ 0.844589    0.24802999]\n",
      " [-0.04424776 -0.80298953]\n",
      " [-0.35572944 -0.55245264]\n",
      " [-0.22421358 -0.52407992]\n",
      " [ 0.53357711  0.57923436]\n",
      " [ 0.7697547  -0.62837189]\n",
      " [ 0.34258554 -0.12232719]\n",
      " [ 0.35794468 -0.18800324]\n",
      " [ 0.58596893 -0.11856317]\n",
      " [-0.42767835 -0.45873429]\n",
      " [-0.43579897  0.34239932]\n",
      " [-0.28358975  0.22439078]\n",
      " [-0.48757798  0.32823595]\n",
      " [ 0.60318019 -0.8739624 ]\n",
      " [-0.12773895  0.89675475]\n",
      " [ 0.12852306  0.50676788]\n",
      " [ 0.46118217  0.39979866]\n",
      " [ 0.68794905  0.49614238]\n",
      " [-0.73535551 -0.45454605]\n",
      " [ 0.04940422  0.40388809]\n",
      " [ 0.2980116   0.17498878]\n",
      " [ 0.51795595  0.74550646]\n",
      " [-0.86825998 -0.68347276]\n",
      " [ 0.01247142 -0.42214497]\n",
      " [ 0.34872388  0.60579708]\n",
      " [ 0.14665457 -0.56817853]\n",
      " [ 0.65500714  0.69495466]\n",
      " [-0.36064051 -0.84512686]\n",
      " [-0.2085146   0.71965556]\n",
      " [ 0.20825552  0.69316969]\n",
      " [ 0.19676626 -0.16269793]\n",
      " [ 0.78024888 -0.72246148]\n",
      " [ 0.35730808  0.00633999]\n",
      " [-0.98066075  0.66640173]\n",
      " [ 0.75570196 -0.5153196 ]\n",
      " [ 0.22972614  0.93429608]\n",
      " [ 0.72203874  0.04244852]\n",
      " [ 0.59499039  0.29145803]\n",
      " [ 0.62408706  0.79469238]\n",
      " [-0.7757817  -0.62722921]\n",
      " [ 0.07210333  0.12404797]\n",
      " [ 0.49808745 -0.45266958]\n",
      " [ 0.06752307 -0.36812113]\n",
      " [-0.92022032 -0.12171316]\n",
      " [-0.88782537  0.77521887]\n",
      " [ 0.80325153 -0.49493662]\n",
      " [ 0.9228068   0.90929976]\n",
      " [ 0.84536362  0.7072233 ]\n",
      " [-0.99478535  0.83653465]\n",
      " [-0.18356711 -0.05048798]\n",
      " [ 0.63854762  0.80456838]\n",
      " [ 0.11570862  0.26673952]\n",
      " [ 0.73662003  0.76379898]\n",
      " [ 0.01922266  0.05090449]\n",
      " [ 0.23782239 -0.64928644]\n",
      " [-0.05811109  0.03245854]\n",
      " [-0.66667911  0.86703622]\n",
      " [ 0.42226999 -0.87515909]\n",
      " [ 0.67153984 -0.72210168]\n",
      " [-0.02267127 -0.54280711]]\n"
     ]
    }
   ],
   "source": [
    "import numpy as np\n",
    "import pandas as pd\n",
    "from decimal import *\n",
    "import statistics\n",
    "from matplotlib import pyplot as plt\n",
    "import timeit\n",
    "\n",
    "#Function to sample (no_vec,dim) dimensional uniformly distributed random vectors between [-1,1]\n",
    "def generate_rv(no_vec, dim): \n",
    "    rv = np.random.uniform(-1, 1, (no_vec,dim))\n",
    "    return rv\n",
    "\n",
    "#Mean Minimum angle to other vectors for 100 vectors\n",
    "dist=generate_rv(100,2)\n",
    "print(\"100 uniformly distributed random vectors:\")\n",
    "print(dist)"
   ]
  },
  {
   "cell_type": "markdown",
   "metadata": {},
   "source": [
    "* **For each of the 100 vectors determine the minimum angle to all other vectors. Then compute the average of these minimum angles. Note that for two vectors x, y the cosine of the angle between the two vectors is defined as**\n",
    "$$\n",
    "\\begin{equation}\n",
    "\\cos(\\angle (x,y))=\\frac{\\langle x,y\\rangle}{ \\| x \\| \\| y\\|}\n",
    "\\end{equation}\n",
    "$$"
   ]
  },
  {
   "cell_type": "code",
   "execution_count": 4,
   "metadata": {},
   "outputs": [
    {
     "name": "stdout",
     "output_type": "stream",
     "text": [
      "Mean Minimum angles (in degrees) of 100 uniformly distributed random vectors:  1.8314761270949378\n"
     ]
    }
   ],
   "source": [
    "#Function to caclucate angles between vectors\n",
    "def cos_sim(v1, v2):\n",
    "    cos=(float(np.dot(v1,v2)))/(np.linalg.norm(v1)*np.linalg.norm(v2))\n",
    "    angle_rad=np.arccos(cos)\n",
    "    angle_deg=np.rad2deg(angle_rad)\n",
    "    return angle_deg\n",
    "\n",
    "#Function for Mean of minimum angles\n",
    "def mean_min_angle(rand_distribution):\n",
    "    res=np.zeros((len(rand_distribution)),dtype=float)\n",
    "    mat=np.zeros((len(rand_distribution),len(rand_distribution)),dtype=float)\n",
    "    mn=float(0)\n",
    "  \n",
    "    for i in range(0,len(rand_distribution)):\n",
    "        for j in range(0,len(rand_distribution)):\n",
    "            #Calculate angles with all vectors\n",
    "            if(i!=j):\n",
    "                mat[i,j]=cos_sim(rand_distribution[i],rand_distribution[j])\n",
    "            else:\n",
    "                mat[i,j]=0\n",
    "        #Compile minimum angles from all vectors\n",
    "        res[i]=sorted(mat[i])[1]\n",
    "    #Mean of minimum angles\n",
    "    return statistics.mean(res[:])\n",
    "\n",
    "print(\"Mean Minimum angles (in degrees) of 100 uniformly distributed random vectors: \", mean_min_angle(dist))\n"
   ]
  },
  {
   "cell_type": "markdown",
   "metadata": {},
   "source": [
    "* **Repeat the above for dimensions d = 1,....,1000 and use the results to plot the average minimum angle against the dimension.**\n"
   ]
  },
  {
   "cell_type": "code",
   "execution_count": 5,
   "metadata": {},
   "outputs": [
    {
     "data": {
      "image/png": "[encoded data removed]",
      "text/plain": [
       "<Figure size 432x288 with 1 Axes>"
      ]
     },
     "metadata": {},
     "output_type": "display_data"
    }
   ],
   "source": [
    "#Function to Plot For min angles\n",
    "def plotMinAngle(no_vec, dim):\n",
    "    plt.title('Mean Minimum Similarity for %d Vectors and %d Dimensions' % (no_vec,dim))\n",
    "    plt.xlabel('Dimensions')\n",
    "    plt.ylabel('Mean of minimum angle (degrees) similarity');\n",
    "    plot_arr=np.empty((1),dtype=float)\n",
    "\n",
    "    for i in range(1,dim+1):\n",
    "        if(i==1):\n",
    "            plot_arr=mean_min_angle(generate_rv(no_vec,i))\n",
    "        else:\n",
    "            plot_arr=np.append(plot_arr,mean_min_angle(generate_rv(no_vec,i)))\n",
    "\n",
    "    plt.plot(plot_arr)\n",
    "    plt.show()\n",
    "    \n",
    "plotMinAngle(100,1000)"
   ]
  },
  {
   "cell_type": "markdown",
   "metadata": {},
   "source": [
    "* **Give an interpretation of the result. What conclusions can you draw for 2 randomly sampled vectors in a d-dimensional space?**"
   ]
  },
  {
   "cell_type": "markdown",
   "metadata": {},
   "source": [
    "\n",
    "The curve of 100 Random variables plotted in dimensions form 1 to 1000 shows that when the dimension 'd' increases, the average minimum angle(degrees) tends to cos 90° or cosine similarity of 0. Which means that as in high dimensional space, correlation between the same vectors decreases.\n"
   ]
  },
  {
   "cell_type": "markdown",
   "metadata": {},
   "source": [
    "* **Does the result change if the sample size increases?**"
   ]
  },
  {
   "cell_type": "code",
   "execution_count": 6,
   "metadata": {},
   "outputs": [
    {
     "data": {
      "image/png": "[encoded data removed]",
      "text/plain": [
       "<Figure size 432x288 with 1 Axes>"
      ]
     },
     "metadata": {},
     "output_type": "display_data"
    }
   ],
   "source": [
    "#Increasing number of variables\n",
    "plotMinAngle(300,1000)"
   ]
  },
  {
   "cell_type": "markdown",
   "metadata": {},
   "source": [
    "\n",
    "No, the result does not change as the number of samples increases, and the above result of decreasing cosine similarity with increasing dimensions still holds true.\n"
   ]
  },
  {
   "cell_type": "markdown",
   "metadata": {},
   "source": [
    "**Statistical Decision Making**\n",
    "**Task 3: [10 Points]**\n",
    "\n",
    "**Answer the following questions. All answers must be justified.**\n",
    "\n",
    "Figure 1:\n",
    "\n",
    "| x / y | 1 | 2 | 3 |\n",
    "| --- | --- | --- | --- |\n",
    "| 1 | 0.02 | 0.26 | 0.13 |\n",
    "| 2 | 0.4 | 0.14 | 0.05 |\n",
    "\n"
   ]
  },
  {
   "cell_type": "markdown",
   "metadata": {},
   "source": [
    "* **The numbers in Figure 1 show the probability of the respective event to happen (e.g. the probability for the event $X=1$ and $Y=1$ is $0.02$). Is this table a probability table? If so, why?**"
   ]
  },
  {
   "cell_type": "markdown",
   "metadata": {},
   "source": [
    "The table will be a probability table only if the sum of the individual probabilities of all events is 1.\n",
    "\n",
    "$$\n",
    "\\because\\,\\; \\sum_Y \\sum_X p_{X, Y}(x, y) = 0.4+0.14+0.05+0.02+0.26+0.13 = 1\n",
    "$$\n",
    "Also,\n",
    "$$\n",
    "\\because\\,\\; p_{X, Y}(x, y) \\geq 0 \\quad \\forall\\; (x, y) \\in \\{\\mathbf{X} \\times \\mathbf{Y}\\}\n",
    "$$\n",
    "Hence, Figure 1 is a probability table."
   ]
  },
  {
   "cell_type": "markdown",
   "metadata": {},
   "source": [
    "\n",
    "* **Based on Figure 1 give the conditional expectation $\\mathbb{E}_{Y \\mid X=2}[Y]$ and the probability\n",
    "of the event $X=1$ under the condition that $Y=3$.**"
   ]
  },
  {
   "cell_type": "markdown",
   "metadata": {},
   "source": [
    "Conditional expectation $\\mathbb{E}_{Y \\mid X=2}[Y]$:\n",
    "$$\n",
    "\\begin{align*}\n",
    "& \\because \\,\\; \\mathbb{E}_{Y \\mid X=2}[Y] = \\sum_Y Y\\;P(Y \\mid X=2) \\\\\n",
    "& \\Rightarrow \\mathbb{E}_{Y \\mid X=2}[Y] = \\sum_Y Y\\;\\frac{P(Y \\cap X=2)}{P(X=2)} \\\\\n",
    "& \\Rightarrow \\mathbb{E}_{Y \\mid X=2}[Y] = \\frac{1}{P(X=2)}\\; \\sum_Y Y\\; P(Y \\cap X=2) \\\\\n",
    "& \\Rightarrow \\mathbb{E}_{Y \\mid X=2}[Y] = \\frac{1}{\\sum_Y P(X=2, Y)}\\sum_Y Y\\;P(Y \\cap X=2) \\\\\n",
    "& \\Rightarrow \\mathbb{E}_{Y \\mid X=2}[Y] = \\frac{1}{0.4+0.14+0.05}(1\\times 0.4 + 2\\times 0.14 + 3\\times 0.05) \\\\\n",
    "& \\therefore \\,\\; \\mathbb{E}_{Y \\mid X=2}[Y] = \\frac{0.83}{0.59} \\approx 1.4068\n",
    "\\end{align*}\n",
    "$$\n",
    "\n",
    "Conditional probability $P(X=1 \\mid Y=3)$:\n",
    "$$\n",
    "\\begin{align*}\n",
    "& \\because \\,\\; P(X=1 \\mid Y=3) = \\frac{P(X=1 \\cap Y=3)}{P(Y=3)} \\\\\n",
    "& \\Rightarrow P(X=1 \\mid Y=3) = \\frac{P(X=1 \\cap Y=3)}{\\sum_X P(X, Y=3)} \\\\\n",
    "& \\Rightarrow P(X=1 \\mid Y=3) = \\frac{0.13}{0.13 + 0.05} \\\\\n",
    "& \\therefore \\,\\; P(X=1 \\mid Y=3) = \\frac{0.13}{0.18} \\approx 0.722\n",
    "\\end{align*}\n",
    "$$\n"
   ]
  },
  {
   "cell_type": "markdown",
   "metadata": {},
   "source": [
    "\n",
    "* **Is the function p(x, y) given by**\n",
    "$$\n",
    "p(x, y) = \\begin{cases}\n",
    "1 & \\quad \\text{for } 0\\leq x\\leq 1\\text{, } 0\\leq y\\leq \\frac{1}{2} \\\\\n",
    "0 & \\quad \\text{otherwise} \\end{cases}\n",
    "$$\n",
    "**a joint density function for two random variables?**"
   ]
  },
  {
   "cell_type": "markdown",
   "metadata": {},
   "source": [
    "For the function to be joint density function for two random variables,\n",
    "$$\n",
    "\\int_y \\int_x p(x, y) =1\n",
    "$$\n",
    "Let's check this for $p(x, y)$ \n",
    "$$\n",
    "\\because \\int_y \\int_x p(x, y)\\; \\mathrm{d}x \\mathrm{d}y = \\int_0^{1/2} \\int_0^1 1\\; \\mathrm{d}x \\mathrm{d}y = \\int_0^{1/2} x\\mid_0^1\\; \\mathrm{d}y = \\int_0^{1/2} 1\\; \\mathrm{d}y = y\\mid_0^{1/2} = \\frac{1}{2} \\neq 1\n",
    "$$\n",
    "Therefore, $p(x, y)$ is not a density function."
   ]
  },
  {
   "cell_type": "markdown",
   "metadata": {},
   "source": [
    "* **For two random variables X and Y the joint density function is given by\n",
    "$$\n",
    "p(x, y) = \\begin{cases}\n",
    "2\\mathit{e}^{-(x+y)} & \\quad \\text{for } 0\\leq x\\leq y\\text{, } 0\\leq y \\\\\n",
    "0 & \\quad \\text{otherwise.} \\end{cases}\n",
    "$$\n",
    "**What are the marginal density functions for X and Y respectively?**"
   ]
  },
  {
   "cell_type": "markdown",
   "metadata": {},
   "source": [
    "Marginal density function for $\\mathbf{X}$ :\n",
    "$$\n",
    "\\begin{align*}\n",
    "& \\because \\,\\; p(x) = \\int_x^\\infty p(x, y)\\; \\mathrm{d}y\\\\\n",
    "& \\Rightarrow p(x) = \\lim_{u\\to\\infty} \\int_x^u p(x, y)\\; \\mathrm{d}y\\\\\n",
    "& \\Rightarrow p(x) = \\lim_{u\\to\\infty} \\int_x^u 2e^{-(x+y)}\\; \\mathrm{d}y\\\\\n",
    "& \\Rightarrow p(x) = 2e^{-x} \\lim_{u\\to\\infty} \\int_x^u e^{-y}\\; \\mathrm{d}y\\\\\n",
    "& \\Rightarrow p(x) = 2e^{-x} \\lim_{u\\to\\infty} \\big[-e^{-y}\\big]_{y=x}^{y=u}\\\\\n",
    "& \\Rightarrow p(x) = 2e^{-x} \\lim_{u\\to\\infty} \\big[-e^{-u}+e^{-x}\\big]\\\\\n",
    "& \\Rightarrow p(x) = 2e^{-x} \\big[0+e^{-x}\\big]\\\\\n",
    "& \\therefore \\,\\; p(x) = 2e^{-2x}\\\\\n",
    "\\end{align*}\n",
    "$$\n",
    "Using the same for $\\mathbf{Y}$ :\n",
    "$$\n",
    "\\begin{align*}\n",
    "& \\because \\,\\; p(y) = \\int_0^y p(x, y)\\; \\mathrm{d}x\\\\\n",
    "& \\Rightarrow p(y) = \\int_0^y 2e^{-(x+y)}\\; \\mathrm{d}x\\\\\n",
    "& \\Rightarrow p(y) = 2e^{-y} \\int_0^y e^{-x}\\; \\mathrm{d}x\\\\\n",
    "& \\Rightarrow p(y) = 2e^{-y} \\big[ -e^{-x} \\big]_{x=0}^{x=y}\\\\\n",
    "& \\Rightarrow p(y) = 2e^{-y} \\big[ -e^{-y} + e^0 \\big]\\\\\n",
    "& \\therefore \\,\\; p(y) = 2e^{-y} \\big( 1 - e^{-y} \\big)\\\\\n",
    "\\end{align*}\n",
    "$$"
   ]
  },
  {
   "cell_type": "markdown",
   "metadata": {},
   "source": [
    "* **Let the joint density function of two random variables X and Y be given by**\n",
    "$$\n",
    "p(x, y) = \\begin{cases}\n",
    "\\frac{1}{15}(2x+4y) & \\quad \\text{for } 0\\leq x\\leq 3\\text{, } 0\\leq y\\leq 1 \\\\\n",
    "0 & \\quad \\text{otherwise.} \\end{cases}\n",
    "$$\n",
    "**Determine the probability for $X\\leq 2$ under the condition that $Y = \\frac{1}{2}$.**"
   ]
  },
  {
   "cell_type": "markdown",
   "metadata": {},
   "source": [
    "$$\n",
    "\\begin{align*}\n",
    "& \\because \\,\\; p(y) = \\int_x p(x, y)\\; \\mathrm{d}x\\\\\n",
    "& \\Rightarrow p(y) = \\int_0^3 p(x, y)\\; \\mathrm{d}x\\\\\n",
    "& \\Rightarrow p(y) = \\int_0^3 \\frac{1}{15}(2x+4y)\\; \\mathrm{d}x\\\\\n",
    "& \\Rightarrow p(y) = \\frac{1}{15}\\; (x^2+4yx)\\mid_{x=0}^3\\\\\n",
    "& \\therefore \\,\\; p(y) = \\frac{1}{5}\\; (4y+3)\\\\\n",
    "\\end{align*}\n",
    "$$\n",
    "Therefore,\n",
    "$$\n",
    "\\begin{align*}\n",
    "& \\because \\,\\; P(X\\leq 2\\mid Y=\\frac{1}{2}) = \\int_0^2 \\frac{p(x, y)}{p(y)}\\mid_{y=\\frac{1}{2}}\\; \\mathrm{d}x\\\\\n",
    "& \\Rightarrow P(X\\leq 2\\mid Y=\\frac{1}{2}) = \\int_0^2 \\frac{2x+4y}{12y+9}\\mid_{y=\\frac{1}{2}}\\; \\mathrm{d}x\\\\\n",
    "& \\Rightarrow P(X\\leq 2\\mid Y=\\frac{1}{2}) = \\int_0^2 \\frac{2x+2}{15}\\; \\mathrm{d}x\\\\\n",
    "& \\Rightarrow P(X\\leq 2\\mid Y=\\frac{1}{2}) = \\frac{1}{15}\\; (x^2+2x)\\mid_0^2\\\\\n",
    "& \\therefore \\,\\; P(X\\leq 2\\mid Y=\\frac{1}{2}) = \\frac{8}{15} \\approx 0.533\n",
    "\\end{align*}\n",
    "$$"
   ]
  },
  {
   "cell_type": "markdown",
   "metadata": {},
   "source": [
    "\n",
    "**Task 4: [3 Points]**\n",
    "\n",
    "**Show that the covariance matrix C of any random variable $X \\in R^p$ is\n",
    "symmetric positive semidefinite, i.e. $C = C^T$ and $x^TCx \\geq $ \u0015 0 for any covariance\n",
    "matrix $C \\in R ^ {p \\times p} $ and any $X \\in R^p$**"
   ]
  },
  {
   "cell_type": "markdown",
   "metadata": {},
   "source": [
    "The definition of the covariance matrix of a random vector $X \\in R^p$, \n",
    "$m_{x}$ is the mean vector:\n",
    "\n",
    "$C = E[(X-X_{m})(X-X_{m})^T]$\n",
    "\n",
    "The covariance matrix is symmetric ($C = C^T$):\n",
    "\n",
    "$C^T = E[(X-X_{m})(X-X_{m})^T]^T = E[((X-X_{m})(X-X_{m})^T)^T] = E[((X-X_{m})^T)^T(X-X_{m})^T] = E[((X-X_{m})(X-X_{m})^T)] = C$\n",
    "\n",
    "The covariance matrix is positive semidefinite ( $ \\forall\tb  \\in R^p $ ,\n",
    "$b^T C b \\geq 0$):\n",
    "\n",
    "$E[[(X-X_{m})^T b]^2] = E[[(X-X_{m})^T b]^T[(X-X_{m})^T b]] \\geq 0 $, $b  \\in R^p $\n",
    "\n",
    "$\\Leftrightarrow$\n",
    "$E[b^T (X-X_{m})(X-X_{m})^T b] \\geq 0$  , $b  \\in R^p $\n",
    "\n",
    "$\\Leftrightarrow$\n",
    "$b^T C b \\geq 0$  , $b  \\in R^p $\n"
   ]
  }
 ],
 "metadata": {
  "kernelspec": {
   "display_name": "Python 3",
   "language": "python",
   "name": "python3"
  },
  "language_info": {
   "codemirror_mode": {
    "name": "ipython",
    "version": 3
   },
   "file_extension": ".py",
   "mimetype": "text/x-python",
   "name": "python",
   "nbconvert_exporter": "python",
   "pygments_lexer": "ipython3",
   "version": "3.7.4"
  }
 },
 "nbformat": 4,
 "nbformat_minor": 2
}
