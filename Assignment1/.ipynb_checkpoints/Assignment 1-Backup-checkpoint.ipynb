{
 "cells": [
  {
   "cell_type": "markdown",
   "metadata": {},
   "source": [
    "## **Assignment 1: Information Retrieval In High Dimensional Data**\n",
    "\n",
    "### Group 7: \n",
    "* Verma, Shivendu\n",
    "* Ben Chaabene, Siwar\n",
    "* Mahajan, Shalvi\n",
    "* Najib, Amna\n",
    "* Sharma, Akshat"
   ]
  },
  {
   "cell_type": "markdown",
   "metadata": {},
   "source": [
    "<font color='RED'> **Curse of Dimensionality \n",
    "Task 1: [2 Points]**\n",
    "\n",
    "TODO: Add Question for Task 1 \n"
   ]
  },
  {
   "cell_type": "code",
   "execution_count": 1,
   "metadata": {},
   "outputs": [],
   "source": [
    "# Answer: Task1\n",
    "# TODO: Add Answer for Task 1"
   ]
  },
  {
   "cell_type": "markdown",
   "metadata": {},
   "source": [
    "<font color='RED'> **Task 2: [10 Points]**\n",
    "\n",
    "Provide the PYTHON code to the following tasks (the code needs to be commented properly):\n",
    "\n",
    "* Sample 100 uniformly distributed random vectors from the box $[-1,1]^d$ for d=2\n",
    "\n"
   ]
  },
  {
   "cell_type": "code",
   "execution_count": 2,
   "metadata": {},
   "outputs": [
    {
     "name": "stdout",
     "output_type": "stream",
     "text": [
      "100 uniformly distributed random vectors:\n",
      "[[-0.07358758 -0.35754289]\n",
      " [-0.9537462   0.13973114]\n",
      " [-0.18152647 -0.60527913]\n",
      " [-0.19614606 -0.00210081]\n",
      " [-0.86156119  0.94051607]\n",
      " [ 0.98870533  0.83126514]\n",
      " [-0.05696782 -0.33904567]\n",
      " [-0.65014939 -0.45353311]\n",
      " [ 0.31291554  0.43120488]\n",
      " [ 0.44233994  0.59418888]\n",
      " [ 0.52727465  0.03369895]\n",
      " [ 0.8009341  -0.87446164]\n",
      " [-0.07996625  0.64708621]\n",
      " [-0.32890502  0.70703987]\n",
      " [ 0.97033708  0.05445297]\n",
      " [ 0.21703065  0.61212321]\n",
      " [ 0.70294467 -0.86036482]\n",
      " [ 0.35043665 -0.99555179]\n",
      " [ 0.76890945  0.03322605]\n",
      " [-0.82561017  0.31813393]\n",
      " [-0.81772704  0.30369062]\n",
      " [ 0.31923761  0.77414096]\n",
      " [ 0.5145682  -0.94418204]\n",
      " [ 0.63582705  0.86106411]\n",
      " [ 0.82024897 -0.12401364]\n",
      " [ 0.8845501   0.11766227]\n",
      " [-0.83538523  0.22392443]\n",
      " [ 0.76914664 -0.11630281]\n",
      " [-0.1991646   0.11122943]\n",
      " [ 0.82780655 -0.40935281]\n",
      " [-0.9353542   0.04184832]\n",
      " [ 0.29509944 -0.50175643]\n",
      " [ 0.74831143  0.35830952]\n",
      " [ 0.85322177  0.93877474]\n",
      " [ 0.1411688   0.59162232]\n",
      " [-0.31474149  0.66844154]\n",
      " [ 0.25520588  0.26208729]\n",
      " [-0.35604911 -0.36735343]\n",
      " [ 0.45434562  0.0666616 ]\n",
      " [-0.28579181 -0.68816534]\n",
      " [ 0.37528788  0.90657883]\n",
      " [ 0.43898535 -0.29130458]\n",
      " [ 0.93070825  0.94884536]\n",
      " [-0.24530772  0.70201982]\n",
      " [ 0.65493393  0.1158226 ]\n",
      " [ 0.23137589  0.51150541]\n",
      " [-0.06302249 -0.84502948]\n",
      " [-0.51375549  0.76336372]\n",
      " [-0.51016759 -0.42793756]\n",
      " [ 0.51998849 -0.11053014]\n",
      " [-0.7365434   0.24574793]\n",
      " [-0.17718988  0.3589229 ]\n",
      " [ 0.22201016 -0.02366874]\n",
      " [-0.9550242   0.3976613 ]\n",
      " [-0.54745056 -0.95973317]\n",
      " [-0.72870403 -0.5703979 ]\n",
      " [-0.65154135  0.77576301]\n",
      " [-0.22804247 -0.91929754]\n",
      " [-0.46229216 -0.11890165]\n",
      " [ 0.34570323 -0.60337179]\n",
      " [ 0.82761241 -0.75392352]\n",
      " [-0.11593456  0.84984746]\n",
      " [ 0.06710849  0.97224853]\n",
      " [ 0.58152105  0.51281113]\n",
      " [-0.36568287  0.00707485]\n",
      " [ 0.04200352  0.17989297]\n",
      " [-0.1053132  -0.26079079]\n",
      " [ 0.15327393  0.40731934]\n",
      " [ 0.99756986 -0.63752304]\n",
      " [-0.04551471 -0.27466368]\n",
      " [ 0.38418305  0.75400567]\n",
      " [-0.36491779  0.18484638]\n",
      " [-0.94817632 -0.91277366]\n",
      " [ 0.91790536  0.41362377]\n",
      " [ 0.50467714  0.83202155]\n",
      " [-0.53679025 -0.89043129]\n",
      " [ 0.08433268  0.14603428]\n",
      " [-0.56795642  0.94939015]\n",
      " [ 0.62080334 -0.69402175]\n",
      " [-0.34487216  0.16447344]\n",
      " [-0.00594161 -0.37586034]\n",
      " [ 0.3887062   0.96925221]\n",
      " [-0.57032865  0.21464097]\n",
      " [ 0.65611071  0.51043694]\n",
      " [ 0.14233876  0.97140781]\n",
      " [ 0.92074781 -0.01505288]\n",
      " [-0.97417055  0.26968494]\n",
      " [ 0.40336731 -0.64351937]\n",
      " [-0.21301243  0.82221814]\n",
      " [ 0.6928351   0.43489552]\n",
      " [ 0.49682859  0.46201905]\n",
      " [ 0.78546119 -0.72353392]\n",
      " [ 0.56147164 -0.61910261]\n",
      " [ 0.43186509 -0.91651259]\n",
      " [ 0.38256618 -0.08618247]\n",
      " [-0.73808723  0.0574662 ]\n",
      " [ 0.73378648  0.19204571]\n",
      " [ 0.77393643 -0.94802721]\n",
      " [-0.27049118 -0.85829954]\n",
      " [ 0.2272241  -0.10442487]]\n"
     ]
    }
   ],
   "source": [
    "import numpy as np\n",
    "import pandas as pd\n",
    "from decimal import *\n",
    "import statistics\n",
    "from matplotlib import pyplot as plt\n",
    "import timeit\n",
    "\n",
    "#Function to sample (no_vec,dim) dimensional uniformly distributed random vectors between [-1,1]\n",
    "def generate_rv(no_vec, dim): \n",
    "    rv = np.random.uniform(-1, 1, (no_vec,dim))\n",
    "    return rv\n",
    "\n",
    "#Mean Minimum angle to other vectors for 100 vectors\n",
    "dist=generate_rv(100,2)\n",
    "print(\"100 uniformly distributed random vectors:\")\n",
    "print(dist)"
   ]
  },
  {
   "cell_type": "markdown",
   "metadata": {},
   "source": [
    "<font color='RED'>\n",
    "\n",
    "* For each of the 100 vectors determine the minimum angle to all other vectors. Then compute the average of these minimum angles. Note that for two vectors x, y the cosine of the angle between the two vectors is defined as\n",
    "$$\n",
    "\\begin{equation}\n",
    "\\cos(\\angle (x,y))=\\frac{\\langle x,y\\rangle}{ \\| x \\| \\| y\\|}\n",
    "\\end{equation}\n",
    "$$"
   ]
  },
  {
   "cell_type": "code",
   "execution_count": 3,
   "metadata": {},
   "outputs": [
    {
     "name": "stdout",
     "output_type": "stream",
     "text": [
      "Mean Minimum angles of 100 uniformly distributed random vectors:  1.603685161934369\n"
     ]
    }
   ],
   "source": [
    "#Function to caclucate angles between vectors\n",
    "def cos_sim(v1, v2):\n",
    "    cos=(float(np.dot(v1,v2)))/(np.linalg.norm(v1)*np.linalg.norm(v2))\n",
    "    angle_rad=np.arccos(cos)\n",
    "    angle_deg=np.rad2deg(angle_rad)\n",
    "    return angle_deg\n",
    "\n",
    "#Function for Mean of minimum angles\n",
    "def mean_min_angle(rand_distribution):\n",
    "    res=np.zeros((len(rand_distribution)),dtype=float)\n",
    "    mat=np.zeros((len(rand_distribution),len(rand_distribution)),dtype=float)\n",
    "    mn=float(0)\n",
    "  \n",
    "    for i in range(0,len(rand_distribution)):\n",
    "        for j in range(0,len(rand_distribution)):\n",
    "            #Calculate angles with all vectors\n",
    "            if(i!=j):\n",
    "                mat[i,j]=cos_sim(rand_distribution[i],rand_distribution[j])\n",
    "            else:\n",
    "                mat[i,j]=0\n",
    "        #Compile minimum angles from all vectors\n",
    "        res[i]=sorted(mat[i])[1]\n",
    "    #Mean of minimum angles\n",
    "    return statistics.mean(res[:])\n",
    "\n",
    "print(\"Mean Minimum angles of 100 uniformly distributed random vectors: \", mean_min_angle(dist))\n"
   ]
  },
  {
   "cell_type": "markdown",
   "metadata": {},
   "source": [
    "<font color='RED'>\n",
    "\n",
    "* Repeat the above for dimensions d = 1,....,1000 and use the results to plot the average minimum angle against the dimension.* *\n"
   ]
  },
  {
   "cell_type": "code",
   "execution_count": null,
   "metadata": {},
   "outputs": [
    {
     "name": "stdout",
     "output_type": "stream",
     "text": [
      "123456789101112131415161718192021222324252627282930313233343536373839404142434445464748495051525354555657585960616263646566676869707172737475767778798081828384858687888990919293949596979899100101102103104105106107108109110111112113114115116117118119120121122123124125126127128129130131132133134135136137138139140141142143144145146147148149150151152153154155156157158159160161162163164165166167168169170171172173174175176177178179180181182183184185186187188189"
     ]
    }
   ],
   "source": [
    "#Function to Plot For min angles\n",
    "def plotMinAngle(no_vec, dim):\n",
    "    plt.title('Mean Minimum Similarity for %d Vectors and %d Dimensions' % (no_vec,dim))\n",
    "    plt.xlabel('Dimensions')\n",
    "    plt.ylabel('Mean of minimum angle similarity');\n",
    "    plot_arr=np.empty((1),dtype=float)\n",
    "\n",
    "    #code_to_test=\"\"\"\n",
    "    for i in range(1,dim+1):\n",
    "        if(i==1):\n",
    "            print(i, end = '')\n",
    "            plot_arr=mean_min_angle(generate_rv(no_vec,i))\n",
    "        else:\n",
    "            print(i, end = '')\n",
    "            plot_arr=np.append(plot_arr,mean_min_angle(generate_rv(no_vec,i)))\n",
    "\n",
    "    #\"\"\"\n",
    "\n",
    "    #elapsed_time = timeit.timeit(code_to_test, number=100)/100\n",
    "    #print(elapsed_time)\n",
    "\n",
    "    print(plot_arr)\n",
    "    plt.plot(plot_arr)\n",
    "    plt.show()\n",
    "    \n",
    "plotMinAngle(100,1000)"
   ]
  },
  {
   "cell_type": "markdown",
   "metadata": {},
   "source": [
    "<font color='RED'>\n",
    "\n",
    "* Give an interpretation of the result. What conclusions can you draw for 2 randomly sampled vectors in a d-dimensional space?"
   ]
  },
  {
   "cell_type": "markdown",
   "metadata": {},
   "source": [
    "\n",
    "The curve of 100 Random variables plotted in dimensions form 1 to 1000 shows that when the dimension 'd' increases, the average minimum angle tends to cos 90° or cosine similarity of 0. Which means that as in high dimensional space, correlation between the same vectors decreases.\n"
   ]
  },
  {
   "cell_type": "markdown",
   "metadata": {},
   "source": [
    "<font color='RED'>\n",
    "\n",
    "* Does the result change if the sample size increases?"
   ]
  },
  {
   "cell_type": "code",
   "execution_count": null,
   "metadata": {},
   "outputs": [],
   "source": [
    "#Increasing number of variables\n",
    "plotMinAngle(300,1000)"
   ]
  },
  {
   "cell_type": "markdown",
   "metadata": {},
   "source": [
    "\n",
    "No, the result does not change as the number of samples increases, and the above result of decreasing cosine similarity with increasing dimensions still holds true.\n"
   ]
  },
  {
   "cell_type": "markdown",
   "metadata": {},
   "source": [
    "<font color='RED'>\n",
    "    \n",
    "**Statistical Decision Making\n",
    "Task 3: [10 Points]**\n",
    "\n",
    "Answer the following questions. All answers must be justified.\n",
    "\n",
    "TODO: Add Question for Task 3 "
   ]
  },
  {
   "cell_type": "code",
   "execution_count": null,
   "metadata": {},
   "outputs": [],
   "source": [
    "Answer: Task 3\n",
    "# TODO: Add Answer for Task 3"
   ]
  },
  {
   "cell_type": "markdown",
   "metadata": {},
   "source": [
    "<font color='RED'>\n",
    "    \n",
    "**Task 4: [3 Points]**\n",
    "\n",
    "TODO: Add Question for Task 4 "
   ]
  },
  {
   "cell_type": "code",
   "execution_count": null,
   "metadata": {},
   "outputs": [],
   "source": [
    "Answer: Task4\n",
    "# TODO: Add Answer for Task 4"
   ]
  }
 ],
 "metadata": {
  "kernelspec": {
   "display_name": "Python 3",
   "language": "python",
   "name": "python3"
  },
  "language_info": {
   "codemirror_mode": {
    "name": "ipython",
    "version": 3
   },
   "file_extension": ".py",
   "mimetype": "text/x-python",
   "name": "python",
   "nbconvert_exporter": "python",
   "pygments_lexer": "ipython3",
   "version": "3.6.6"
  }
 },
 "nbformat": 4,
 "nbformat_minor": 2
}
