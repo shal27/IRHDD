{
 "cells": [
  {
   "cell_type": "markdown",
   "metadata": {},
   "source": [
    "# Information Retrieval for high dimensional data\n",
    "\n",
    "Group 4 - Amir Kaddour, Tinh-Toan Nong, Raja Judeh, Tim Music"
   ]
  },
  {
   "cell_type": "markdown",
   "metadata": {},
   "source": [
    "## Task 1"
   ]
  },
  {
   "cell_type": "markdown",
   "metadata": {},
   "source": [
    "### 1\n",
    "\n",
    "The probability density function is zero for all $x$ values not in the range from $-\\frac{d}{2} to \\frac{d}{2}$.\n",
    "\n",
    "Because $X$ is uniformly distributed, the value of the PDF remains constant for the cube $C_1$.\n",
    "With the area below the PDF being $1$, $q$ can be computed as follows:\n",
    "\n",
    "$q \\cdot d = 1 $ when $p = 1$\n",
    "\n",
    "When p or d are increasing, q must decrease to keep the area below the PDF equal to $1$\n",
    "\n",
    "$\\frac{p \\cdot d}{q} = 1$\n",
    "\n",
    "$d = \\frac{q}{p}$\n",
    "\n",
    "\n",
    "\n",
    "### 2\n",
    "Probability to lie inside the interval: $Pr(\\lvert X^1\\rvert \\le 2.576) = 0.99$  \n",
    "Probability to lie outside the interval: $Pr(\\lvert X^1\\rvert \\gt 2.576) = 1 - Pr(\\lvert X^1\\rvert \\le 2.576) = 0.01$\n",
    "\n",
    "$Pr(\\lvert\\lvert X^p\\rvert\\rvert_\\infty \\le 2.576) = 0.99^p $\n",
    "\n",
    "$Pr(\\lvert\\lvert X^p\\rvert\\rvert_\\infty \\gt 2.576) = 1 - 0.99^p$\n",
    "\n",
    "$Pr(\\lvert\\lvert X^2\\rvert\\rvert_\\infty \\gt 2.576) = 1 - 0.99^2 = 0.0199 \\approx 1.9\\%$\n",
    "\n",
    "$Pr(\\lvert\\lvert X^3\\rvert\\rvert_\\infty \\gt 2.576) = 1 - 0.99^3 = 0.029701 \\approx 2.97\\%$\n",
    "\n",
    "$Pr(\\lvert\\lvert X^{500}\\rvert\\rvert_\\infty \\gt 2.576) = 1 - 0.99^500 = 0.9934 \\approx 99.3\\%$\n",
    "\n",
    "If the number of dimensions increase, the probability for the variable $X$ being outside the interval is increasing exponentially.\n",
    "\n"
   ]
  },
  {
   "cell_type": "markdown",
   "metadata": {},
   "source": [
    "## Task 2"
   ]
  },
  {
   "cell_type": "code",
   "execution_count": 4,
   "metadata": {},
   "outputs": [],
   "source": [
    "import numpy as np\n",
    "from decimal import *\n",
    "from matplotlib import pyplot as plt\n",
    "from numpy.linalg import norm\n",
    "\n",
    "def generate_random_vectors(n, d):      ### Generate n random vectors with d dimension \n",
    "    \n",
    "    size = (n, d)\n",
    "    random_vectors = np.random.uniform(-1, 1, size)\n",
    "    \n",
    "    return random_vectors\n",
    "\n",
    "random_vectors = generate_random_vectors(100, 2) \n",
    "#print (random_vectors)       ### uncomment to see the results\n"
   ]
  },
  {
   "cell_type": "code",
   "execution_count": 5,
   "metadata": {},
   "outputs": [],
   "source": [
    "def compute_angle(x, y):   ### Get the angle between two vectors\n",
    "        \n",
    "    cos_xy = np.dot(x, y) / (norm(x) * norm(y))\n",
    "    angle_xy = np.arccos(cos_xy)\n",
    "    angle_xy = np.rad2deg(angle_xy)  ###Convert deg to rad\n",
    "    \n",
    "    return angle_xy\n",
    "\n",
    "def compute_min_angle(vector_index, allvectors): ## Get the minimum angle\n",
    "\n",
    "    min_angle = 1000\n",
    "    vector = allvectors[vector_index]\n",
    "        \n",
    "    for i in range(len(allvectors)):\n",
    "        if i != vector_index:       ### ignore if this is the same vector\n",
    "            angle = compute_angle(vector, allvectors[i])\n",
    "            if angle < min_angle:\n",
    "                min_angle = angle\n",
    "                \n",
    "    return min_angle\n",
    "\n",
    "def average_minimum_angles(n, d):   #### Compute the average minimum angle of n random vectors in d-dimensional space\n",
    "    \n",
    "    random_vectors = generate_random_vectors(n, d)\n",
    "    n = len(random_vectors)\n",
    "    min_angles = np.zeros((n, 1))\n",
    "    \n",
    "    for i in range(n):\n",
    "        \n",
    "        min_angles[i] = compute_min_angle(i, random_vectors)   \n",
    "    \n",
    "    average_min_angles = np.mean(min_angles)\n",
    "    \n",
    "    return min_angles, average_min_angles\n",
    "\n",
    "    "
   ]
  },
  {
   "cell_type": "code",
   "execution_count": 6,
   "metadata": {},
   "outputs": [
    {
     "name": "stdout",
     "output_type": "stream",
     "text": [
      "Average of minimum angle is: 1.7947950475285384\n"
     ]
    }
   ],
   "source": [
    "##### Average of minimum angle (in degree) of 100 samples in 2-dimensional space \n",
    "d = 2\n",
    "sample_size = 100\n",
    "min_angles, average_min_angles = average_minimum_angles(sample_size, d)\n",
    "\n",
    "#print(min_angles)   ### uncomment to see the array\n",
    "print('Average of minimum angle is: {}'.format(average_min_angles))   "
   ]
  },
  {
   "cell_type": "code",
   "execution_count": 7,
   "metadata": {},
   "outputs": [
    {
     "data": {
      "image/png": "[encoded data removed]",
      "text/plain": [
       "<Figure size 432x288 with 1 Axes>"
      ]
     },
     "metadata": {
      "needs_background": "light"
     },
     "output_type": "display_data"
    }
   ],
   "source": [
    "d = 1\n",
    "d_max = 1000\n",
    "sample_size = 100\n",
    "average_alldimensions = np.zeros((d_max, 1))\n",
    "\n",
    "for d in range(1, d_max + 1):\n",
    "    average_alldimensions[d-1] = average_minimum_angles(sample_size , d)[1]\n",
    "       \n",
    "plt.plot(average_alldimensions)\n",
    "plt.title('Sample size = {}'.format(sample_size ))\n",
    "plt.xlabel('Dimension')\n",
    "plt.ylabel('Average of minimum angles');\n",
    "plt.show()"
   ]
  },
  {
   "cell_type": "markdown",
   "metadata": {},
   "source": [
    "## Curse of Dimensionality\n",
    "The curve shows that when the dimension d increases, the average minimum angle tends to 90°. This means that in high dimensional space, the likelihood for two randomly sampled vectors to be aligned is very low. Thus, the distribution of the correlation between two random vectors will be (almost) equal to zero when the space dimension increases. This also explains that the average minimum angle doesn't change by increasing the size of samples."
   ]
  },
  {
   "cell_type": "code",
   "execution_count": 6,
   "metadata": {},
   "outputs": [
    {
     "data": {
      "image/png": "[encoded data removed]",
      "text/plain": [
       "<Figure size 432x288 with 1 Axes>"
      ]
     },
     "metadata": {},
     "output_type": "display_data"
    }
   ],
   "source": [
    "###### Increasing the Sample size = 200\n",
    "d = 1\n",
    "d_max =1000\n",
    "sample_size = 200\n",
    "average_alldimensions = np.zeros((d_max, 1))\n",
    "\n",
    "for d in range(1, d_max + 1):\n",
    "    average_alldimensions[d-1] = average_minimum_angles(sample_size , d)[1]\n",
    "\n",
    "plt.plot(average_alldimensions)\n",
    "plt.title('Sample size = {}'.format(sample_size ))\n",
    "plt.xlabel('Dimension')\n",
    "plt.ylabel('Average of minimum angles');\n",
    "plt.show()"
   ]
  },
  {
   "cell_type": "markdown",
   "metadata": {},
   "source": [
    "## Task 3\n",
    "\n",
    "### 1\n",
    "The table in fig 1 is a probability table: The sum of the cells is equal to 1\n",
    "\n",
    "### 2\n",
    "$E[Y|X=2] = P(Y=1|X=2)*1 + P(Y=2|X=2) * 2 + P(Y=3|X=2) * 3 = (P(Y=1;X=2)*1+P(Y=2;X=2)*2+P(Y=3;X=2)*3)/P(X=2) =(0.4*1+0.14*2+0.05*3)/0.59 = 83/59 $\n",
    "\n",
    "$P(X=1|Y=3) = P(X=1;Y=3)/P(Y=3) = P(X=1;Y=3)/(P(X=1;Y=3)+P(X=2;Y=3)) = 13/18$\n",
    "\n",
    "### 3\n",
    "The function given isn't a joint density function for 2 variables because the integral of the function over X and Y is equal to 1/2 while it should be equal to 1 if it was a joint density function.\n",
    "\n",
    "### 4\n",
    "$P(X) = \\int (P(X;Y),Y=0.. \\infty) = 2*exp(-X)* \\int (exp(-Y),Y=0..\\infty) = 2*exp(-X)$\n",
    "\n",
    "$P(Y) = \\int (P(X;Y),X=0..Y) = 2*exp(-Y)* \\int(exp(-X),X=0..Yy) = 2*exp(-Y)*(1-exp(-Y))$\n",
    "\n",
    "### 5\n",
    "$P(X<=2|Y=1/2) = \\int(1/15*(2x+2),x=0..2) = 2/15*\\int(x+1,x=0..2) = 8/15$\n",
    "\n",
    "$S = (0.4*1+0.14*2+0.05*3)/0.59$\n",
    "\n",
    "print(S)\n",
    "\n",
    "\n"
   ]
  },
  {
   "cell_type": "markdown",
   "metadata": {},
   "source": [
    "## Task 4\n",
    "\n",
    "Let $X$ be a Random Variable (RV) in $R^p$ (real vector of dim p) and $C$ its covariance matrix.\n",
    "\n",
    "### 1\n",
    "Let's prove $C = C^T$ (ie Transpose(C)):\n",
    "\n",
    "$C^T = E[(X-X_{mean})(X-X_{mean})^T]^T = E[((X-X_{mean})(X-X_{mean})^T)^T] = E[((X-X_{mean})^T)^T(X-X_{mean})^T] = E[((X-X_{mean})(X-X_{mean})^T)] = C$\n",
    "\n",
    "### 2\n",
    "Let's prove that for any $u$ in $R^p$, $u^T C u \\gt 0$:\n",
    "\n",
    "$u^T C u = u^T E[(X-X_{mean})(X-X_{mean})^T] u = E[u^T (X-X_{mean})(X-X_{mean})^T u] $\n",
    "\n",
    "Let $s = u^T (X-X_{mean})$\n",
    "Then $s$ is a scalar (scalar product of 2 vectors in $R^p$) and $s^t = s$.\n",
    "\n",
    "So $u^T C u = E[s^2] = \\sigma^2 \\gt 0$\n"
   ]
  }
 ],
 "metadata": {
  "kernelspec": {
   "display_name": "Python 3",
   "language": "python",
   "name": "python3"
  },
  "language_info": {
   "codemirror_mode": {
    "name": "ipython",
    "version": 3
   },
   "file_extension": ".py",
   "mimetype": "text/x-python",
   "name": "python",
   "nbconvert_exporter": "python",
   "pygments_lexer": "ipython3",
   "version": "3.7.4"
  }
 },
 "nbformat": 4,
 "nbformat_minor": 2
}
