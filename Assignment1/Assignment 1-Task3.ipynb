{
 "cells": [
  {
   "cell_type": "markdown",
   "metadata": {},
   "source": [
    "## **Assignment 1: Information Retrieval In High Dimensional Data**\n",
    "\n",
    "### Group 7: \n",
    "* Verma, Shivendu (03692438)\n",
    "* Ben Chaabene, Siwar (03687915)\n",
    "* Mahajan, Shalvi (03708741)\n",
    "* Najib, Amna (03689277)\n",
    "* Sharma, Akshat (03708955)"
   ]
  },
  {
   "cell_type": "markdown",
   "metadata": {},
   "source": [
    "<font color='RED'> **Curse of Dimensionality \n",
    "Task 1: [2 Points]**\n",
    "\n",
    "TODO: Add Question for Task 1 \n"
   ]
  },
  {
   "cell_type": "code",
   "execution_count": 1,
   "metadata": {},
   "outputs": [],
   "source": [
    "# Answer: Task1\n",
    "# TODO: Add Answer for Task 1"
   ]
  },
  {
   "cell_type": "markdown",
   "metadata": {},
   "source": [
    "<font color='RED'> **Task 2: [10 Points]**\n",
    "\n",
    "Provide the PYTHON code to the following tasks (the code needs to be commented properly):\n",
    "\n",
    "* Sample 100 uniformly distributed random vectors from the box $[-1,1]^d$ for d=2\n",
    "\n"
   ]
  },
  {
   "cell_type": "code",
   "execution_count": 2,
   "metadata": {},
   "outputs": [
    {
     "name": "stdout",
     "output_type": "stream",
     "text": [
      "100 uniformly distributed random vectors:\n",
      "[[-0.06971302  0.13133017]\n",
      " [ 0.64713025 -0.16409291]\n",
      " [ 0.43900646 -0.78895346]\n",
      " [-0.17159051  0.77990679]\n",
      " [-0.99906441 -0.01821633]\n",
      " [-0.95923275  0.61621158]\n",
      " [ 0.24470129  0.02614271]\n",
      " [-0.75209462  0.35326244]\n",
      " [ 0.76962764 -0.9471209 ]\n",
      " [ 0.7211867   0.01367141]\n",
      " [-0.8886856  -0.89467015]\n",
      " [-0.10398226 -0.82012708]\n",
      " [ 0.86484066  0.32991388]\n",
      " [-0.57684974  0.83989343]\n",
      " [-0.52582053  0.37611154]\n",
      " [ 0.50466665  0.71564939]\n",
      " [-0.82666635 -0.43747929]\n",
      " [ 0.94830878  0.83159537]\n",
      " [ 0.37776001  0.87628871]\n",
      " [-0.5267882  -0.36526441]\n",
      " [-0.74405449 -0.5898477 ]\n",
      " [-0.29219969  0.33508303]\n",
      " [ 0.74452436  0.14601904]\n",
      " [ 0.9752091   0.53170654]\n",
      " [ 0.33353369  0.25615258]\n",
      " [ 0.74353181 -0.15708582]\n",
      " [ 0.37185538  0.76885845]\n",
      " [ 0.24612533 -0.81707829]\n",
      " [-0.53628264 -0.90234315]\n",
      " [ 0.32292899 -0.96240896]\n",
      " [ 0.52874148  0.59207149]\n",
      " [ 0.5321894  -0.14266849]\n",
      " [-0.84513663 -0.23688465]\n",
      " [-0.10998966 -0.52032042]\n",
      " [-0.09098417  0.58930172]\n",
      " [-0.94915444 -0.05644647]\n",
      " [-0.62532787  0.53307772]\n",
      " [-0.62150864  0.11049048]\n",
      " [-0.64596585 -0.53295613]\n",
      " [-0.05929669 -0.98745413]\n",
      " [-0.10144154 -0.54736273]\n",
      " [-0.23680188  0.6424948 ]\n",
      " [ 0.52232015  0.01136041]\n",
      " [ 0.66206601 -0.4049458 ]\n",
      " [-0.65013209  0.86184243]\n",
      " [ 0.87997187 -0.32985814]\n",
      " [-0.40989448  0.64151205]\n",
      " [ 0.50074091 -0.32042057]\n",
      " [ 0.20095639 -0.1938596 ]\n",
      " [-0.7117915  -0.34435213]\n",
      " [ 0.90340883 -0.52588248]\n",
      " [-0.53148777  0.24140702]\n",
      " [ 0.72762018  0.62214022]\n",
      " [-0.28892657 -0.20542437]\n",
      " [ 0.98033505 -0.28068187]\n",
      " [-0.6977574   0.89963349]\n",
      " [-0.25370041 -0.67687043]\n",
      " [-0.07643233 -0.41448995]\n",
      " [ 0.00318403 -0.97697299]\n",
      " [-0.98308802  0.76087009]\n",
      " [ 0.6668667   0.43493494]\n",
      " [-0.56961851 -0.10999965]\n",
      " [-0.49410897 -0.53256992]\n",
      " [-0.68883968  0.08408443]\n",
      " [ 0.87830292 -0.98271065]\n",
      " [-0.77911295 -0.8226728 ]\n",
      " [-0.29341665  0.95220903]\n",
      " [ 0.07697369  0.10411203]\n",
      " [-0.9938065   0.46824516]\n",
      " [ 0.96827216  0.64785014]\n",
      " [ 0.45249035 -0.5544855 ]\n",
      " [-0.11058033  0.47757059]\n",
      " [-0.48828216 -0.75451357]\n",
      " [ 0.21990098 -0.96542262]\n",
      " [-0.00168193 -0.13690347]\n",
      " [ 0.36748865  0.98252351]\n",
      " [-0.96731974 -0.80459497]\n",
      " [ 0.40026784  0.51428603]\n",
      " [-0.63329079  0.80854259]\n",
      " [ 0.95327081  0.31408423]\n",
      " [-0.51170676  0.00182008]\n",
      " [ 0.86571086 -0.13517095]\n",
      " [ 0.5129557  -0.18009028]\n",
      " [-0.02864802  0.5287976 ]\n",
      " [ 0.29059842 -0.45792926]\n",
      " [-0.55473063 -0.6289338 ]\n",
      " [ 0.55448829  0.57542502]\n",
      " [-0.20027503 -0.02465741]\n",
      " [-0.04842558  0.28482339]\n",
      " [-0.03916781  0.31493276]\n",
      " [ 0.44369396  0.53682299]\n",
      " [-0.3687567   0.31404183]\n",
      " [-0.87531362 -0.47786638]\n",
      " [ 0.30405072 -0.39152984]\n",
      " [-0.37310975  0.74402974]\n",
      " [ 0.06964117  0.31602724]\n",
      " [-0.28146633  0.03592157]\n",
      " [-0.51063374 -0.73045261]\n",
      " [-0.11244028  0.49799575]\n",
      " [-0.88783962  0.05468154]]\n"
     ]
    }
   ],
   "source": [
    "import numpy as np\n",
    "import pandas as pd\n",
    "from decimal import *\n",
    "import statistics\n",
    "from matplotlib import pyplot as plt\n",
    "import timeit\n",
    "\n",
    "#Function to sample (no_vec,dim) dimensional uniformly distributed random vectors between [-1,1]\n",
    "def generate_rv(no_vec, dim): \n",
    "    rv = np.random.uniform(-1, 1, (no_vec,dim))\n",
    "    return rv\n",
    "\n",
    "#Mean Minimum angle to other vectors for 100 vectors\n",
    "dist=generate_rv(100,2)\n",
    "print(\"100 uniformly distributed random vectors:\")\n",
    "print(dist)"
   ]
  },
  {
   "cell_type": "markdown",
   "metadata": {},
   "source": [
    "<font color='RED'>\n",
    "\n",
    "* For each of the 100 vectors determine the minimum angle to all other vectors. Then compute the average of these minimum angles. Note that for two vectors x, y the cosine of the angle between the two vectors is defined as\n",
    "$$\n",
    "\\begin{equation}\n",
    "\\cos(\\angle (x,y))=\\frac{\\langle x,y\\rangle}{ \\| x \\| \\| y\\|}\n",
    "\\end{equation}\n",
    "$$"
   ]
  },
  {
   "cell_type": "code",
   "execution_count": 3,
   "metadata": {},
   "outputs": [
    {
     "name": "stdout",
     "output_type": "stream",
     "text": [
      "Mean Minimum angles of 100 uniformly distributed random vectors:  1.7991970774197645\n"
     ]
    }
   ],
   "source": [
    "#Function to caclucate angles between vectors\n",
    "def cos_sim(v1, v2):\n",
    "    cos=(float(np.dot(v1,v2)))/(np.linalg.norm(v1)*np.linalg.norm(v2))\n",
    "    angle_rad=np.arccos(cos)\n",
    "    angle_deg=np.rad2deg(angle_rad)\n",
    "    return angle_deg\n",
    "\n",
    "#Function for Mean of minimum angles\n",
    "def mean_min_angle(rand_distribution):\n",
    "    res=np.zeros((len(rand_distribution)),dtype=float)\n",
    "    mat=np.zeros((len(rand_distribution),len(rand_distribution)),dtype=float)\n",
    "    mn=float(0)\n",
    "  \n",
    "    for i in range(0,len(rand_distribution)):\n",
    "        for j in range(0,len(rand_distribution)):\n",
    "            #Calculate angles with all vectors\n",
    "            if(i!=j):\n",
    "                mat[i,j]=cos_sim(rand_distribution[i],rand_distribution[j])\n",
    "            else:\n",
    "                mat[i,j]=0\n",
    "        #Compile minimum angles from all vectors\n",
    "        res[i]=sorted(mat[i])[1]\n",
    "    #Mean of minimum angles\n",
    "    return statistics.mean(res[:])\n",
    "\n",
    "print(\"Mean Minimum angles of 100 uniformly distributed random vectors: \", mean_min_angle(dist))\n"
   ]
  },
  {
   "cell_type": "markdown",
   "metadata": {},
   "source": [
    "<font color='RED'>\n",
    "\n",
    "* Repeat the above for dimensions d = 1,....,1000 and use the results to plot the average minimum angle against the dimension.* *\n"
   ]
  },
  {
   "cell_type": "code",
   "execution_count": 4,
   "metadata": {},
   "outputs": [
    {
     "data": {
      "image/png": "[encoded data removed]",
      "text/plain": [
       "<Figure size 432x288 with 1 Axes>"
      ]
     },
     "metadata": {
      "needs_background": "light"
     },
     "output_type": "display_data"
    }
   ],
   "source": [
    "#Function to Plot For min angles\n",
    "def plotMinAngle(no_vec, dim):\n",
    "    plt.title('Mean Minimum Similarity for %d Vectors and %d Dimensions' % (no_vec,dim))\n",
    "    plt.xlabel('Dimensions')\n",
    "    plt.ylabel('Mean of minimum angle similarity');\n",
    "    plot_arr=np.empty((1),dtype=float)\n",
    "\n",
    "    #code_to_test=\"\"\"\n",
    "    for i in range(1,dim+1):\n",
    "        if(i==1):\n",
    "            plot_arr=mean_min_angle(generate_rv(no_vec,i))\n",
    "        else:\n",
    "            plot_arr=np.append(plot_arr,mean_min_angle(generate_rv(no_vec,i)))\n",
    "\n",
    "    plt.plot(plot_arr)\n",
    "    plt.show()\n",
    "    \n",
    "plotMinAngle(100,1000)"
   ]
  },
  {
   "cell_type": "markdown",
   "metadata": {},
   "source": [
    "<font color='RED'>\n",
    "\n",
    "* Give an interpretation of the result. What conclusions can you draw for 2 randomly sampled vectors in a d-dimensional space?"
   ]
  },
  {
   "cell_type": "markdown",
   "metadata": {},
   "source": [
    "\n",
    "The curve of 100 Random variables plotted in dimensions form 1 to 1000 shows that when the dimension 'd' increases, the average minimum angle tends to cos 90° or cosine similarity of 0. Which means that as in high dimensional space, correlation between the same vectors decreases.\n"
   ]
  },
  {
   "cell_type": "markdown",
   "metadata": {},
   "source": [
    "<font color='RED'>\n",
    "\n",
    "* Does the result change if the sample size increases?"
   ]
  },
  {
   "cell_type": "code",
   "execution_count": 5,
   "metadata": {},
   "outputs": [
    {
     "data": {
      "image/png": "[encoded data removed]",
      "text/plain": [
       "<Figure size 432x288 with 1 Axes>"
      ]
     },
     "metadata": {
      "needs_background": "light"
     },
     "output_type": "display_data"
    }
   ],
   "source": [
    "#Increasing number of variables\n",
    "plotMinAngle(300,1000)"
   ]
  },
  {
   "cell_type": "markdown",
   "metadata": {},
   "source": [
    "\n",
    "No, the result does not change as the number of samples increases, and the above result of decreasing cosine similarity with increasing dimensions still holds true.\n"
   ]
  },
  {
   "cell_type": "markdown",
   "metadata": {},
   "source": [
    "<font color='RED'>\n",
    "    \n",
    "**Statistical Decision Making\n",
    "Task 3: [10 Points]**\n",
    "<!-- <img src=\"Task3.jpg\" style=\"width: 220px;\"> -->\n",
    "\n",
    "Figure 1: Task 3:\n",
    "\n",
    "| x / y | 1 | 2 | 3 |\n",
    "| --- | --- | --- | --- |\n",
    "| 1 | 0.02 | 0.26 | 0.13 |\n",
    "| 2 | 0.4 | 0.14 | 0.05 |\n",
    "\n",
    "Answer the following questions. All answers must be justified.\n"
   ]
  },
  {
   "cell_type": "markdown",
   "metadata": {},
   "source": [
    "<font color='RED'>\n",
    "\n",
    "* The numbers in Figure 1 show the probability of the respective event to happen (e.g. the probability for the event $X=1$ and $Y=1$ is $0.02$). Is this table a probability table? If so, why?"
   ]
  },
  {
   "cell_type": "markdown",
   "metadata": {},
   "source": [
    "The table will be a probability table only if the sum of the individual probabilities of all events is 1.\n",
    "\n",
    "$$\n",
    "\\because\\,\\; \\sum_Y \\sum_X p_{X, Y}(x, y) = 0.4+0.14+0.05+0.02+0.26+0.13 = 1\n",
    "$$\n",
    "Also,\n",
    "$$\n",
    "\\because\\,\\; p_{X, Y}(x, y) \\geq 0 \\quad \\forall\\; (x, y) \\in \\{\\mathbf{X} \\times \\mathbf{Y}\\}\n",
    "$$\n",
    "Hence, Figure 1 is a probability table."
   ]
  },
  {
   "cell_type": "markdown",
   "metadata": {},
   "source": [
    "<font color='RED'>\n",
    "\n",
    "* Based on Figure 1 give the conditional expectation $\\mathbb{E}_{Y \\mid X=2}[Y]$ and the probability\n",
    "of the event $X=1$ under the condition that $Y=3$."
   ]
  },
  {
   "cell_type": "markdown",
   "metadata": {},
   "source": [
    "Conditional expectation $\\mathbb{E}_{Y \\mid X=2}[Y]$:\n",
    "$$\n",
    "\\begin{align*}\n",
    "& \\because \\,\\; \\mathbb{E}_{Y \\mid X=2}[Y] = \\sum_Y Y\\;P(Y \\mid X=2) \\\\\n",
    "& \\Rightarrow \\mathbb{E}_{Y \\mid X=2}[Y] = \\sum_Y Y\\;\\frac{P(Y \\cap X=2)}{P(X=2)} \\\\\n",
    "& \\Rightarrow \\mathbb{E}_{Y \\mid X=2}[Y] = \\frac{1}{P(X=2)}\\; \\sum_Y Y\\; P(Y \\cap X=2) \\\\\n",
    "& \\Rightarrow \\mathbb{E}_{Y \\mid X=2}[Y] = \\frac{1}{\\sum_Y P(X=2, Y)}\\sum_Y Y\\;P(Y \\cap X=2) \\\\\n",
    "& \\Rightarrow \\mathbb{E}_{Y \\mid X=2}[Y] = \\frac{1}{0.4+0.14+0.05}(1\\times 0.4 + 2\\times 0.14 + 3\\times 0.05) \\\\\n",
    "& \\therefore \\,\\; \\mathbb{E}_{Y \\mid X=2}[Y] = \\frac{0.83}{0.59} \\approx 1.4068\n",
    "\\end{align*}\n",
    "$$\n",
    "\n",
    "Conditional probability $P(X=1 \\mid Y=3)$:\n",
    "$$\n",
    "\\begin{align*}\n",
    "& \\because \\,\\; P(X=1 \\mid Y=3) = \\frac{P(X=1 \\cap Y=3)}{P(Y=3)} \\\\\n",
    "& \\Rightarrow P(X=1 \\mid Y=3) = \\frac{P(X=1 \\cap Y=3)}{\\sum_X P(X, Y=3)} \\\\\n",
    "& \\Rightarrow P(X=1 \\mid Y=3) = \\frac{0.13}{0.13 + 0.05} \\\\\n",
    "& \\therefore \\,\\; P(X=1 \\mid Y=3) = \\frac{0.13}{0.18} \\approx 0.722\n",
    "\\end{align*}\n",
    "$$\n"
   ]
  },
  {
   "cell_type": "markdown",
   "metadata": {},
   "source": [
    "<font color='RED'>\n",
    "\n",
    "* Is the function p(x, y) given by\n",
    "$$\n",
    "p(x, y) = \\begin{cases}\n",
    "1 & \\quad \\text{for } 0\\leq x\\leq 1\\text{, } 0\\leq y\\leq \\frac{1}{2} \\\\\n",
    "0 & \\quad \\text{otherwise} \\end{cases}\n",
    "$$\n",
    "a joint density function for two random variables?"
   ]
  },
  {
   "cell_type": "markdown",
   "metadata": {},
   "source": [
    "For the function to be joint density function for two random variables,\n",
    "$$\n",
    "\\int_y \\int_x p(x, y) =1\n",
    "$$\n",
    "Let's check this for $p(x, y)$ \n",
    "$$\n",
    "\\because \\int_y \\int_x p(x, y)\\; \\mathrm{d}x \\mathrm{d}y = \\int_0^{1/2} \\int_0^1 1\\; \\mathrm{d}x \\mathrm{d}y = \\int_0^{1/2} x\\mid_0^1\\; \\mathrm{d}y = \\int_0^{1/2} 1\\; \\mathrm{d}y = y\\mid_0^{1/2} = \\frac{1}{2} \\neq 1\n",
    "$$\n",
    "Therefore, $p(x, y)$ is not a density function."
   ]
  },
  {
   "cell_type": "markdown",
   "metadata": {},
   "source": [
    "<font color='RED'>\n",
    "\n",
    "* For two random variables X and Y the joint density function is given by\n",
    "$$\n",
    "p(x, y) = \\begin{cases}\n",
    "2\\mathit{e}^{-(x+y)} & \\quad \\text{for } 0\\leq x\\leq y\\text{, } 0\\leq y \\\\\n",
    "0 & \\quad \\text{otherwise.} \\end{cases}\n",
    "$$\n",
    "What are the marginal density functions for X and Y respectively?"
   ]
  },
  {
   "cell_type": "markdown",
   "metadata": {},
   "source": [
    "Marginal density function for $\\mathbf{X}$ :\n",
    "$$\n",
    "\\begin{align*}\n",
    "& \\because \\,\\; p(x) = \\int_x^\\infty p(x, y)\\; \\mathrm{d}y\\\\\n",
    "& \\Rightarrow p(x) = \\lim_{u\\to\\infty} \\int_x^u p(x, y)\\; \\mathrm{d}y\\\\\n",
    "& \\Rightarrow p(x) = \\lim_{u\\to\\infty} \\int_x^u 2e^{-(x+y)}\\; \\mathrm{d}y\\\\\n",
    "& \\Rightarrow p(x) = 2e^{-x} \\lim_{u\\to\\infty} \\int_x^u e^{-y}\\; \\mathrm{d}y\\\\\n",
    "& \\Rightarrow p(x) = 2e^{-x} \\lim_{u\\to\\infty} \\big[-e^{-y}\\big]_{y=x}^{y=u}\\\\\n",
    "& \\Rightarrow p(x) = 2e^{-x} \\lim_{u\\to\\infty} \\big[-e^{-u}+e^{-x}\\big]\\\\\n",
    "& \\Rightarrow p(x) = 2e^{-x} \\big[0+e^{-x}\\big]\\\\\n",
    "& \\therefore \\,\\; p(x) = 2e^{-2x}\\\\\n",
    "\\end{align*}\n",
    "$$\n",
    "Using the same for $\\mathbf{Y}$ :\n",
    "$$\n",
    "\\begin{align*}\n",
    "& \\because \\,\\; p(y) = \\int_0^y p(x, y)\\; \\mathrm{d}x\\\\\n",
    "& \\Rightarrow p(y) = \\int_0^y 2e^{-(x+y)}\\; \\mathrm{d}x\\\\\n",
    "& \\Rightarrow p(y) = 2e^{-y} \\int_0^y e^{-x}\\; \\mathrm{d}x\\\\\n",
    "& \\Rightarrow p(y) = 2e^{-y} \\big[ -e^{-x} \\big]_{x=0}^{x=y}\\\\\n",
    "& \\Rightarrow p(y) = 2e^{-y} \\big[ -e^{-y} + e^0 \\big]\\\\\n",
    "& \\therefore \\,\\; p(y) = 2e^{-y} \\big( 1 - e^{-y} \\big)\\\\\n",
    "\\end{align*}\n",
    "$$"
   ]
  },
  {
   "cell_type": "markdown",
   "metadata": {},
   "source": [
    "<font color='RED'>\n",
    "\n",
    "* Let the joint density function of two random variables X and Y be given by\n",
    "$$\n",
    "p(x, y) = \\begin{cases}\n",
    "\\frac{1}{15}(2x+4y) & \\quad \\text{for } 0\\leq x\\leq 3\\text{, } 0\\leq y\\leq 1 \\\\\n",
    "0 & \\quad \\text{otherwise.} \\end{cases}\n",
    "$$\n",
    "Determine the probability for $X\\leq 2$ under the condition that $Y = \\frac{1}{2}$."
   ]
  },
  {
   "cell_type": "markdown",
   "metadata": {},
   "source": [
    "$$\n",
    "\\begin{align*}\n",
    "& \\because \\,\\; p(y) = \\int_x p(x, y)\\; \\mathrm{d}x\\\\\n",
    "& \\Rightarrow p(y) = \\int_0^3 p(x, y)\\; \\mathrm{d}x\\\\\n",
    "& \\Rightarrow p(y) = \\int_0^3 \\frac{1}{15}(2x+4y)\\; \\mathrm{d}x\\\\\n",
    "& \\Rightarrow p(y) = \\frac{1}{15}\\; (x^2+4yx)\\mid_{x=0}^3\\\\\n",
    "& \\therefore \\,\\; p(y) = \\frac{1}{5}\\; (4y+3)\\\\\n",
    "\\end{align*}\n",
    "$$\n",
    "Therefore,\n",
    "$$\n",
    "\\begin{align*}\n",
    "& \\because \\,\\; P(X\\leq 2\\mid Y=\\frac{1}{2}) = \\int_0^2 \\frac{p(x, y)}{p(y)}\\mid_{y=\\frac{1}{2}}\\; \\mathrm{d}x\\\\\n",
    "& \\Rightarrow P(X\\leq 2\\mid Y=\\frac{1}{2}) = \\int_0^2 \\frac{2x+4y}{12y+9}\\mid_{y=\\frac{1}{2}}\\; \\mathrm{d}x\\\\\n",
    "& \\Rightarrow P(X\\leq 2\\mid Y=\\frac{1}{2}) = \\int_0^2 \\frac{2x+2}{15}\\; \\mathrm{d}x\\\\\n",
    "& \\Rightarrow P(X\\leq 2\\mid Y=\\frac{1}{2}) = \\frac{1}{15}\\; (x^2+2x)\\mid_0^2\\\\\n",
    "& \\therefore \\,\\; P(X\\leq 2\\mid Y=\\frac{1}{2}) = \\frac{8}{15} \\approx 0.533\n",
    "\\end{align*}\n",
    "$$"
   ]
  },
  {
   "cell_type": "markdown",
   "metadata": {},
   "source": [
    "<font color='RED'>\n",
    "    \n",
    "**Task 4: [3 Points]**\n",
    "\n",
    "TODO: Add Question for Task 4 "
   ]
  },
  {
   "cell_type": "code",
   "execution_count": null,
   "metadata": {},
   "outputs": [],
   "source": [
    "Answer: Task4\n",
    "# TODO: Add Answer for Task 4"
   ]
  }
 ],
 "metadata": {
  "kernelspec": {
   "display_name": "Python 3",
   "language": "python",
   "name": "python3"
  },
  "language_info": {
   "codemirror_mode": {
    "name": "ipython",
    "version": 3
   },
   "file_extension": ".py",
   "mimetype": "text/x-python",
   "name": "python",
   "nbconvert_exporter": "python",
   "pygments_lexer": "ipython3",
   "version": "3.6.5"
  }
 },
 "nbformat": 4,
 "nbformat_minor": 2
}
